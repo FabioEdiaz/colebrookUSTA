{
 "cells": [
  {
   "cell_type": "code",
   "execution_count": 14,
   "metadata": {},
   "outputs": [],
   "source": [
    "import numpy as np\n",
    "import matplotlib.pyplot as fabio "
   ]
  },
  {
   "cell_type": "code",
   "execution_count": 15,
   "metadata": {},
   "outputs": [],
   "source": [
    "# Métodos Numericos para el factor de fricción\n",
    "# usando la ecuacion de Colebrook White\n",
    "# iteración de punto fijo"
   ]
  },
  {
   "cell_type": "code",
   "execution_count": 16,
   "metadata": {},
   "outputs": [],
   "source": [
    "def ColebrookWhite(Rey,k,D):\n",
    "    facfric0 = 0.9999\n",
    "    error = 10\n",
    "    i = 1    \n",
    "    while error > 1e-4:\n",
    "        facfric1 = (-2*np.log10((k / D)/3.7 + 2.51 / (Rey * np.sqrt(facfric0))))**(-2)\n",
    "        error = abs (facfric1-facfric0)/facfric0\n",
    "        facfric0 = facfric1\n",
    "        print (\"iteración\", i, \"raiz aproximada \", facfric0)\n",
    "        i=i+1 \n",
    "    return facfric1\n",
    "k = 0.0001\n",
    "D = 1.000\n",
    "Rey = 20000  "
   ]
  },
  {
   "cell_type": "code",
   "execution_count": 17,
   "metadata": {},
   "outputs": [
    {
     "name": "stdout",
     "output_type": "stream",
     "text": [
      "iteración 1 raiz aproximada  0.017162425975643884\n",
      "iteración 2 raiz aproximada  0.027656644478076996\n",
      "iteración 3 raiz aproximada  0.025897910012360442\n",
      "iteración 4 raiz aproximada  0.026129202137771305\n",
      "iteración 5 raiz aproximada  0.026097706816940746\n",
      "iteración 6 raiz aproximada  0.026101975522442034\n",
      "iteración 7 raiz aproximada  0.026101396597026157\n",
      "0.026101396597026157\n"
     ]
    }
   ],
   "source": [
    "solucion = ColebrookWhite(Rey,k,D)\n",
    "print (solucion)"
   ]
  },
  {
   "cell_type": "code",
   "execution_count": 18,
   "metadata": {},
   "outputs": [],
   "source": [
    "# Método de Newton Raphson\n",
    "# con la ecuación de Colebrook-White sin modificar"
   ]
  },
  {
   "cell_type": "code",
   "execution_count": 19,
   "metadata": {},
   "outputs": [
    {
     "name": "stdout",
     "output_type": "stream",
     "text": [
      "iteración 1 raíz aproximada: 3.560402900607026e-05\n",
      "iteración 2 raíz aproximada: 0.00010459977697647917\n",
      "iteración 3 raíz aproximada: 0.0003017676349537868\n",
      "iteración 4 raíz aproximada: 0.0008424740142148281\n",
      "iteración 5 raíz aproximada: 0.002219970951478655\n",
      "iteración 6 raíz aproximada: 0.0053065185460486105\n",
      "iteración 7 raíz aproximada: 0.010881635152196041\n",
      "iteración 8 raíz aproximada: 0.018015902647064746\n",
      "iteración 9 raíz aproximada: 0.023483566969173378\n",
      "iteración 10 raíz aproximada: 0.025611242649784847\n",
      "iteración 11 raíz aproximada: 0.026033824603162958\n",
      "iteración 12 raíz aproximada: 0.026092413399783673\n",
      "iteración 13 raíz aproximada: 0.026100296358975456\n",
      "iteración 14 raíz aproximada: 0.02610131452252416\n",
      "iteración 15 raíz aproximada: 0.026101446174997007\n",
      "iteración 16 raíz aproximada: 0.026101463200614284\n",
      "iteración 17 raíz aproximada: 0.026101465402449307\n",
      "iteración 18 raíz aproximada: 0.026101465687201925\n",
      "iteración 19 raíz aproximada: 0.026101465724027613\n"
     ]
    }
   ],
   "source": [
    "k = 0.0001\n",
    "D = 1.0\n",
    "Rey = 20000\n",
    "def h(x):\n",
    "    return (-2*np.log10((k / D)/3.7 + 2.51 / (Rey * np.sqrt(x)))-(1/np.sqrt(x)))\n",
    "def dh(x):\n",
    "    return (1.76964*Rey* np.sqrt(x))/(np.sqrt(x)*x)*0.27027*k/D + 2.71/(Rey* np.sqrt(x)) +1//(2*x**(3/2))\n",
    "x0 = 0.000012\n",
    "it=1\n",
    "error = 10\n",
    "while error > 1e-8:\n",
    "    x1 = x0-h(x0)/dh(x0)\n",
    "    error =abs(x1-x0)/x0    \n",
    "    x0=x1\n",
    "    print (\"iteración\",it,\"raíz aproximada:\",x0)\n",
    "    it=it+1"
   ]
  },
  {
   "cell_type": "code",
   "execution_count": 20,
   "metadata": {},
   "outputs": [],
   "source": [
    "# Métodos Numericos para el factor de fricción\n",
    "# usando la ecuacion de Colebrook White, y la derivada simplificadas del profesor Antonio\n",
    "# para el método de Newton Raphson"
   ]
  },
  {
   "cell_type": "code",
   "execution_count": 21,
   "metadata": {},
   "outputs": [
    {
     "name": "stdout",
     "output_type": "stream",
     "text": [
      "iteración 1 raíz aproximada: 0.14005166508334307\n",
      "iteración 2 raíz aproximada: 0.028676952562345533\n",
      "iteración 3 raíz aproximada: 0.026109395100006188\n",
      "iteración 4 raíz aproximada: 0.026101469636874736\n",
      "iteración 5 raíz aproximada: 0.026101465731388922\n",
      "iteración 6 raíz aproximada: 0.026101465729498403\n"
     ]
    }
   ],
   "source": [
    "k = 0.0001\n",
    "D = 1.0\n",
    "Rey = 20000\n",
    "it = 1\n",
    "def g(x):\n",
    "    return (x+2*np.log10((k / D)/3.7 + (2.51*x) / (Rey )))\n",
    "def dg(x):\n",
    "    return (1+2.189/((k*Rey/D/3.7) + 2.51*x))\n",
    "x0 =1000\n",
    "raro = 10\n",
    "while raro > 1e-8:\n",
    "    x1 = x0-g(x0)/dg(x0)\n",
    "    raro =abs(x1-x0)/x0\n",
    "    x0=x1\n",
    "    friz=(1/x0)**2\n",
    "    print (\"iteración\",it,\"raíz aproximada:\",friz)\n",
    "    it=it+1    "
   ]
  },
  {
   "cell_type": "code",
   "execution_count": 22,
   "metadata": {},
   "outputs": [],
   "source": [
    "# Métodos Numericos para el factor de fricción\n",
    "# usando el método de la bisección"
   ]
  },
  {
   "cell_type": "code",
   "execution_count": 23,
   "metadata": {},
   "outputs": [
    {
     "name": "stdout",
     "output_type": "stream",
     "text": [
      "iteración 2 raíz aproximada: 63.248160924554696\n",
      "iteración 3 raíz aproximada: 226.7289541392317\n",
      "iteración 4 raíz aproximada: -21.91132298370431\n"
     ]
    },
    {
     "name": "stderr",
     "output_type": "stream",
     "text": [
      "<ipython-input-23-d105013f9d75>:6: RuntimeWarning: invalid value encountered in sqrt\n",
      "  return (-2*np.log10((k / D)/3.7 + 2.51 / (Rey * np.sqrt(x)))-(1/np.sqrt(x)))\n"
     ]
    }
   ],
   "source": [
    "k = 0.0001\n",
    "D = 1.0\n",
    "Rey = 20000\n",
    "it = 1\n",
    "def j(x):\n",
    "    return (-2*np.log10((k / D)/3.7 + 2.51 / (Rey * np.sqrt(x)))-(1/np.sqrt(x)))\n",
    "x3 = 0.123\n",
    "x2 = 0.0034\n",
    "aro = 10\n",
    "while aro > 1e-8:\n",
    "    x3 = x1-((x2-x1)/j(x2)-j(x1))*j(x1)\n",
    "    x1=x2\n",
    "    x2=x3\n",
    "    aro =abs(j(x3))\n",
    "    it=it+1\n",
    "    print (\"iteración\",it,\"raíz aproximada:\",x3)"
   ]
  }
 ],
 "metadata": {
  "kernelspec": {
   "display_name": "Python 3",
   "language": "python",
   "name": "python3"
  },
  "language_info": {
   "codemirror_mode": {
    "name": "ipython",
    "version": 3
   },
   "file_extension": ".py",
   "mimetype": "text/x-python",
   "name": "python",
   "nbconvert_exporter": "python",
   "pygments_lexer": "ipython3",
   "version": "3.8.5"
  }
 },
 "nbformat": 4,
 "nbformat_minor": 4
}
