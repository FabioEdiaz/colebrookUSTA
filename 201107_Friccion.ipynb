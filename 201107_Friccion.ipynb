{
 "cells": [
  {
   "cell_type": "code",
   "execution_count": 1,
   "metadata": {},
   "outputs": [],
   "source": [
    "import numpy as np\n",
    "from CW_f import CW_pf, CW_NRs, CW_NRc\n",
    "\n",
    "import ipywidgets as ipw\n",
    "from ipywidgets import widgets, interact_manual\n",
    "\n",
    "ipw.interact_manual.opts['manual_name'] = \"SU MADRE!\""
   ]
  },
  {
   "cell_type": "code",
   "execution_count": 2,
   "metadata": {},
   "outputs": [
    {
     "name": "stdout",
     "output_type": "stream",
     "text": [
      "iteración 1 raiz aproximada  0.021977246615138293\n",
      "iteración 2 raiz aproximada  0.02672192956549837\n",
      "iteración 3 raiz aproximada  0.02601852347630775\n",
      "iteración 4 raiz aproximada  0.026112735431354853\n",
      "iteración 5 raiz aproximada  0.026099937841635227\n",
      "iteración 6 raiz aproximada  0.026101672934591612\n",
      "iteración 1 raíz aproximada: 0.14005814750355433\n",
      "iteración 2 raíz aproximada: 0.028676590666570776\n",
      "iteración 4 raíz aproximada: 0.026109371890559906\n",
      "iteración 8 raíz aproximada: 0.02610146955783843\n",
      "iteración 16 raíz aproximada: 0.02610146573131802\n",
      "0.026101672934591612 0.02610146573131802\n"
     ]
    }
   ],
   "source": [
    "Re = 20000\n",
    "D = 1.0\n",
    "k = 0.0001\n",
    "\n",
    "f1 = CW_pf(Re, D, k)\n",
    "f2 = CW_NRs(Re, D, k)\n",
    "\n",
    "print(f1, f2)"
   ]
  },
  {
   "cell_type": "code",
   "execution_count": 3,
   "metadata": {},
   "outputs": [
    {
     "data": {
      "application/vnd.jupyter.widget-view+json": {
       "model_id": "874ac3df006f42b98a19ce37d09bdde9",
       "version_major": 2,
       "version_minor": 0
      },
      "text/plain": [
       "interactive(children=(FloatSlider(value=20000.0, description='Reynolds', max=20000000.0, min=4000.0), FloatTex…"
      ]
     },
     "metadata": {},
     "output_type": "display_data"
    }
   ],
   "source": [
    "interact_manual(CW_pf, \\\n",
    "Rey=widgets.FloatSlider(description='Reynolds', min=4000, max=2e7, value=2e4),\n",
    "D=widgets.FloatText(description='Diam (mm)', min = 1, max = 300, value = 1), \n",
    "k=widgets.FloatText(description='rugos (mm)', min = 1e-6, max = 0.1, value = 0.0001));"
   ]
  }
 ],
 "metadata": {
  "kernelspec": {
   "display_name": "Python 3",
   "language": "python",
   "name": "python3"
  },
  "language_info": {
   "codemirror_mode": {
    "name": "ipython",
    "version": 3
   },
   "file_extension": ".py",
   "mimetype": "text/x-python",
   "name": "python",
   "nbconvert_exporter": "python",
   "pygments_lexer": "ipython3",
   "version": "3.8.5"
  }
 },
 "nbformat": 4,
 "nbformat_minor": 4
}
